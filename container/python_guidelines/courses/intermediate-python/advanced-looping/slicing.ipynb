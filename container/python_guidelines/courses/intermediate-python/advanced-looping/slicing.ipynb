{
 "cells": [
  {
   "cell_type": "markdown",
   "metadata": {},
   "source": [
    "# Slicing\n",
    "\n",
    "Slicing is a easy way to create sub-lists.\n",
    "\n",
    "You can use a slice to get a subset of items from any data type that maintains an order, such as a `list` or `tuple`, but not from any non-ordered daata types, such as `dict` or `set`."
   ]
  },
  {
   "cell_type": "markdown",
   "metadata": {},
   "source": []
  },
  {
   "cell_type": "code",
   "execution_count": 20,
   "metadata": {},
   "outputs": [
    {
     "output_type": "execute_result",
     "data": {
      "text/plain": "'world'"
     },
     "metadata": {},
     "execution_count": 20
    }
   ],
   "source": [
    "# Basic slicing\n",
    "my_string = \"Hello, world!\"\n",
    "my_string[7:12] # from 7 to 12 included"
   ]
  },
  {
   "cell_type": "code",
   "execution_count": 21,
   "metadata": {},
   "outputs": [
    {
     "output_type": "stream",
     "name": "stdout",
     "text": "Hello\nworld!\n"
    }
   ],
   "source": [
    "# Lopsided slicing\n",
    "print(my_string[:5]) # from 0 to  5\n",
    "print(my_string[7:]) # from 7 to end"
   ]
  },
  {
   "cell_type": "code",
   "execution_count": 22,
   "metadata": {},
   "outputs": [
    {
     "output_type": "execute_result",
     "data": {
      "text/plain": "'Hello, world!'"
     },
     "metadata": {},
     "execution_count": 22
    }
   ],
   "source": [
    "# Easy copying\n",
    "my_new_string = my_string[:]\n",
    "my_new_string"
   ]
  },
  {
   "cell_type": "code",
   "execution_count": 23,
   "metadata": {},
   "outputs": [
    {
     "output_type": "stream",
     "name": "stdout",
     "text": "world!\nlo, wo\n"
    }
   ],
   "source": [
    "# Negative slicing, is equivalent to starting from the end\n",
    "print(my_string[-6:]) # from the end - 6, to the end\n",
    "print(my_string[-10:-4]) # from the end - 10, to the end -4"
   ]
  },
  {
   "cell_type": "code",
   "execution_count": 24,
   "metadata": {},
   "outputs": [
    {
     "output_type": "execute_result",
     "data": {
      "text/plain": "7"
     },
     "metadata": {},
     "execution_count": 24
    }
   ],
   "source": [
    "# Single negative numbers also work as list indices\n",
    "my_list = [1,3,3,7]\n",
    "my_list[-1]"
   ]
  },
  {
   "cell_type": "code",
   "execution_count": 25,
   "metadata": {},
   "outputs": [
    {
     "output_type": "stream",
     "name": "stdout",
     "text": "[0, 2, 4, 6, 8]\n[9, 8, 7, 6, 5, 4, 3, 2, 1, 0]\n[1, 3, 5]\n"
    }
   ],
   "source": [
    "# Stride or Step\n",
    "# Slices have a third optional argument, called \"step\" or \"stride\",\n",
    "# which lets you skip elements of a list or even reverse direction.\n",
    "my_list = [0,1,2,3,4,5,6,7,8,9]\n",
    "print(my_list[::2]) # move forward by 2, or skip every other index\n",
    "print(my_list[::-1]) # move backward by 1, easy way to reverse a list\n",
    "print(my_list[1:7:2]) # start from 1, to 7, by steps of 2"
   ]
  },
  {
   "cell_type": "code",
   "execution_count": null,
   "metadata": {},
   "outputs": [],
   "source": []
  }
 ],
 "metadata": {
  "language_info": {
   "codemirror_mode": {
    "name": "ipython",
    "version": 3
   },
   "file_extension": ".py",
   "mimetype": "text/x-python",
   "name": "python",
   "nbconvert_exporter": "python",
   "pygments_lexer": "ipython3",
   "version": "3.8.3-final"
  },
  "orig_nbformat": 2,
  "kernelspec": {
   "name": "python38364bit1311d42443224ee797af80aa6bffc5c0",
   "display_name": "Python 3.8.3 64-bit"
  }
 },
 "nbformat": 4,
 "nbformat_minor": 2
}