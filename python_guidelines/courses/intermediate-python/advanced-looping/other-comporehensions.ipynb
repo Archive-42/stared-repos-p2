{
 "cells": [
  {
   "cell_type": "code",
   "execution_count": 1,
   "metadata": {},
   "outputs": [
    {
     "output_type": "execute_result",
     "data": {
      "text/plain": "{0: 0, 1: 1, 2: 4, 3: 9, 4: 16, 5: 25, 6: 36, 7: 49, 8: 64, 9: 81}"
     },
     "metadata": {},
     "execution_count": 1
    }
   ],
   "source": [
    "# DICTIONARY COMPREHENSION\n",
    "squares = {num: num * num for num in range(10)}\n",
    "squares"
   ]
  },
  {
   "cell_type": "code",
   "execution_count": 2,
   "metadata": {},
   "outputs": [
    {
     "output_type": "execute_result",
     "data": {
      "text/plain": "{'player-0': 0, 'player-1': 0, 'player-2': 0, 'player-3': 0, 'player-4': 0}"
     },
     "metadata": {},
     "execution_count": 2
    }
   ],
   "source": [
    "scores = {f\"player-{num}\": 0 for num in range(0, 5)}\n",
    "scores"
   ]
  },
  {
   "cell_type": "code",
   "execution_count": 3,
   "metadata": {},
   "outputs": [
    {
     "output_type": "stream",
     "name": "stdout",
     "text": "[('player-0', 0), ('player-1', 2), ('player-2', 4), ('player-3', 6), ('player-4', 8)]\n{'player-0': 0, 'player-1': 2, 'player-2': 4, 'player-3': 6, 'player-4': 8}\n"
    }
   ],
   "source": [
    "# you can also operate with tuples\n",
    "my_list = [(f\"player-{num}\", num * 2) for num in range(0, 5)]\n",
    "print(my_list)\n",
    "scores = {key:value for (key,value) in my_list}\n",
    "print(scores)"
   ]
  },
  {
   "cell_type": "code",
   "execution_count": 4,
   "metadata": {},
   "outputs": [
    {
     "output_type": "stream",
     "name": "stdout",
     "text": "{0, 1, 2, 3}\n"
    }
   ],
   "source": [
    "# SET COMPREHENSION\n",
    "my_set = {num for num in [1,2,1,0,3]}\n",
    "print(my_set)"
   ]
  },
  {
   "cell_type": "code",
   "execution_count": 5,
   "metadata": {},
   "outputs": [
    {
     "output_type": "stream",
     "name": "stdout",
     "text": "[0, 4, 16, 36, 64]\n<generator object <genexpr> at 0x00000281EB894200>\n0\n4\n16\n36\n64\n"
    }
   ],
   "source": [
    "# GENERATOR COMPREHENSION\n",
    "list_comp = [x**2 for x in range(10) if x%2 == 0]\n",
    "print(list_comp)\n",
    "\n",
    "gen_exp = (x**2 for x in range(10) if x%2 == 0)\n",
    "print(gen_exp)\n",
    "for num in gen_exp:\n",
    "    # lazy evaluation!\n",
    "    print(num)"
   ]
  },
  {
   "cell_type": "code",
   "execution_count": 9,
   "metadata": {},
   "outputs": [
    {
     "output_type": "stream",
     "name": "stdout",
     "text": "5.468659100000195\n2.4000000848900527e-06\n3.796847800000023\n"
    }
   ],
   "source": [
    "# LIST COMPREHENSION VS GENERATOR COMPREHENSION\n",
    "import timeit\n",
    "list_comp = \"[num for num in range(0, 10 ** 8)]\"\n",
    "print(timeit.timeit(list_comp, number=1))\n",
    "\n",
    "gen_comp = \"(num for num in range(0, 10 ** 8))\"\n",
    "print(timeit.timeit(gen_comp, number=1))\n",
    "# we can run the generator comprehension over 10 million times in less\n",
    "# time than it takes to assemble the full list once,\n",
    "# and the generator will take far less memory\n",
    "print(timeit.timeit(gen_comp, number=10000000))"
   ]
  }
 ],
 "metadata": {
  "language_info": {
   "codemirror_mode": {
    "name": "ipython",
    "version": 3
   },
   "file_extension": ".py",
   "mimetype": "text/x-python",
   "name": "python",
   "nbconvert_exporter": "python",
   "pygments_lexer": "ipython3",
   "version": "3.8.3-final"
  },
  "orig_nbformat": 2,
  "kernelspec": {
   "name": "python38364bit1311d42443224ee797af80aa6bffc5c0",
   "display_name": "Python 3.8.3 64-bit"
  }
 },
 "nbformat": 4,
 "nbformat_minor": 2
}