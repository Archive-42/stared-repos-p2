{
 "cells": [
  {
   "cell_type": "markdown",
   "metadata": {},
   "source": [
    "# Zip function\n",
    "\n",
    "It's often necessary to iterate over multiple lists simultaneously. The `zip` function to the rescue!"
   ]
  },
  {
   "cell_type": "code",
   "execution_count": 1,
   "metadata": {},
   "outputs": [],
   "source": [
    "names = [\"Bob\", \"Alice\", \"Eve\"]\n",
    "scores = [42, 97, 68]"
   ]
  },
  {
   "cell_type": "code",
   "execution_count": 2,
   "metadata": {},
   "outputs": [
    {
     "output_type": "stream",
     "name": "stdout",
     "text": "Bob had a score of 42.\nAlice had a score of 97.\nEve had a score of 68.\n"
    }
   ],
   "source": [
    "for name, score in zip(names, scores):\n",
    "    print(f\"{name} had a score of {score}.\")"
   ]
  },
  {
   "cell_type": "code",
   "execution_count": 3,
   "metadata": {},
   "outputs": [
    {
     "output_type": "stream",
     "name": "stdout",
     "text": "Bob had a score of 42.\nAlice had a score of 97.\n"
    }
   ],
   "source": [
    "# The problem here is that lists need to have the same length...\n",
    "scores.pop(-1)\n",
    "for name, score in zip(names, scores):\n",
    "    print(f\"{name} had a score of {score}.\")"
   ]
  },
  {
   "cell_type": "code",
   "execution_count": 4,
   "metadata": {},
   "outputs": [
    {
     "output_type": "stream",
     "name": "stdout",
     "text": "{'Bob': 42, 'Alice': 97}\n"
    }
   ],
   "source": [
    "# We can also use `zip` to quickly and easily create a dit from two lists\n",
    "score_dict = dict(zip(names, scores))\n",
    "print(score_dict)"
   ]
  },
  {
   "cell_type": "markdown",
   "metadata": {},
   "source": [
    "## Zip for different length arrays\n",
    "\n",
    "You can use [`itertools.zip_longest(*iterables, fillvalue=None)`](https://docs.python.org/3/library/itertools.html#itertools.zip_longest) if you need to zip to the longest array."
   ]
  }
 ],
 "metadata": {
  "language_info": {
   "codemirror_mode": {
    "name": "ipython",
    "version": 3
   },
   "file_extension": ".py",
   "mimetype": "text/x-python",
   "name": "python",
   "nbconvert_exporter": "python",
   "pygments_lexer": "ipython3",
   "version": "3.8.3-final"
  },
  "orig_nbformat": 2,
  "kernelspec": {
   "name": "python38364bit1311d42443224ee797af80aa6bffc5c0",
   "display_name": "Python 3.8.3 64-bit"
  }
 },
 "nbformat": 4,
 "nbformat_minor": 2
}