{
 "cells": [
  {
   "cell_type": "code",
   "execution_count": 23,
   "metadata": {},
   "outputs": [],
   "source": [
    "names = [\"Nina\", \"Max\", \"Rose\", \"Jimmy\"]"
   ]
  },
  {
   "cell_type": "code",
   "execution_count": 25,
   "metadata": {},
   "outputs": [
    {
     "output_type": "stream",
     "name": "stdout",
     "text": "[4, 3, 4, 5]\n"
    }
   ],
   "source": [
    "# Naive way\n",
    "my_list = []\n",
    "for name in names:\n",
    "    my_list.append(len(name))\n",
    "\n",
    "print(my_list)"
   ]
  },
  {
   "cell_type": "code",
   "execution_count": 27,
   "metadata": {},
   "outputs": [
    {
     "output_type": "stream",
     "name": "stdout",
     "text": "[4, 3, 4, 5]\n"
    }
   ],
   "source": [
    "# List Comprehension!\n",
    "my_list = [len(name) for name in names]\n",
    "print(my_list)"
   ]
  },
  {
   "cell_type": "code",
   "execution_count": 28,
   "metadata": {},
   "outputs": [
    {
     "output_type": "stream",
     "name": "stdout",
     "text": "[('length', 8), ('length', 6), ('length', 8), ('length', 10)]\n"
    }
   ],
   "source": [
    "my_list = [(\"length\", len(name) * 2) for name in names]\n",
    "print(my_list)"
   ]
  },
  {
   "cell_type": "code",
   "execution_count": 29,
   "metadata": {},
   "outputs": [
    {
     "output_type": "stream",
     "name": "stdout",
     "text": "[4, 4]\n"
    }
   ],
   "source": [
    "# Conditionals\n",
    "my_list = [len(name) for name in names if len(name) % 2 == 0]\n",
    "print(my_list)"
   ]
  },
  {
   "cell_type": "code",
   "execution_count": 30,
   "metadata": {},
   "outputs": [
    {
     "output_type": "stream",
     "name": "stdout",
     "text": "1,2,3,4,5\n"
    }
   ],
   "source": [
    "# You can easily join in string\n",
    "my_string = ','.join([str(num) for num in [1,2,3,4,5]])\n",
    "print(my_string)"
   ]
  },
  {
   "cell_type": "code",
   "execution_count": 31,
   "metadata": {},
   "outputs": [
    {
     "output_type": "stream",
     "name": "stdout",
     "text": "1683\n0\n99\n"
    }
   ],
   "source": [
    "# Wherever you can use a list, you can use ist comprehension!\n",
    "# sum, min & max, are examples of this\n",
    "my_sum = (sum([num for num in range(0, 100) if num % 3 == 0]))\n",
    "print(my_sum)\n",
    "\n",
    "my_min = min([num for num in range(0,100) if num % 3 == 0])\n",
    "print(my_min)\n",
    "\n",
    "my_max = max([num for num in range(0, 100) if num % 3 == 0])\n",
    "print(my_max)\n"
   ]
  },
  {
   "cell_type": "code",
   "execution_count": null,
   "metadata": {},
   "outputs": [],
   "source": []
  }
 ],
 "metadata": {
  "language_info": {
   "codemirror_mode": {
    "name": "ipython",
    "version": 3
   },
   "file_extension": ".py",
   "mimetype": "text/x-python",
   "name": "python",
   "nbconvert_exporter": "python",
   "pygments_lexer": "ipython3",
   "version": "3.8.3-final"
  },
  "orig_nbformat": 2,
  "kernelspec": {
   "name": "python38364bit1311d42443224ee797af80aa6bffc5c0",
   "display_name": "Python 3.8.3 64-bit"
  }
 },
 "nbformat": 4,
 "nbformat_minor": 2
}