{
 "cells": [
  {
   "cell_type": "markdown",
   "metadata": {},
   "source": [
    "# Inheritance\n",
    "\n",
    "Class inheritance is used for sharing and reusing code. It makes posible to break up and organize your code itno a hierarchy, from generic (abstract classes) to specific (concrete classes). Objects that belong to classes that are higher up in the hierarchy (more generic) are accessible by subclasses, but not vice versa."
   ]
  },
  {
   "cell_type": "code",
   "execution_count": 1,
   "metadata": {},
   "outputs": [],
   "source": [
    "class Vehicle:\n",
    "    number_of_wheels = 4\n",
    "    def __init__(self, make, model, fuel=\"gas\"):\n",
    "        self.make = make\n",
    "        self.model = model\n",
    "        self.fuel = fuel\n",
    "\n",
    "# Car inherits from Vhicle\n",
    "class Car(Vehicle):\n",
    "    def __init__(self, make, model, fuel=\"gas\"):\n",
    "        super().__init__(make, model, fuel)\n",
    "\n",
    "class Truck(Vehicle):\n",
    "    number_of_wheels = 6\n",
    "    def __init__(self, make, model, fuel=\"diesel\"):\n",
    "        super().__init__(make, model, fuel)\n",
    "\n",
    "\n",
    "my_car = Car(\"Ford\", \"Thunderbird\")\n",
    "my_truck = Truck(\"Ford\", \"F350\")"
   ]
  },
  {
   "cell_type": "code",
   "execution_count": 2,
   "metadata": {},
   "outputs": [
    {
     "output_type": "execute_result",
     "data": {
      "text/plain": "True"
     },
     "metadata": {},
     "execution_count": 2
    }
   ],
   "source": [
    "isinstance(my_car, Car)"
   ]
  },
  {
   "cell_type": "code",
   "execution_count": 3,
   "metadata": {},
   "outputs": [
    {
     "output_type": "execute_result",
     "data": {
      "text/plain": "True"
     },
     "metadata": {},
     "execution_count": 3
    }
   ],
   "source": [
    "isinstance(my_car, Vehicle)"
   ]
  },
  {
   "cell_type": "code",
   "execution_count": 4,
   "metadata": {},
   "outputs": [
    {
     "output_type": "execute_result",
     "data": {
      "text/plain": "False"
     },
     "metadata": {},
     "execution_count": 4
    }
   ],
   "source": [
    "isinstance(my_car, Truck)"
   ]
  },
  {
   "cell_type": "code",
   "execution_count": 5,
   "metadata": {},
   "outputs": [
    {
     "output_type": "execute_result",
     "data": {
      "text/plain": "True"
     },
     "metadata": {},
     "execution_count": 5
    }
   ],
   "source": [
    "issubclass(Truck, Vehicle)"
   ]
  },
  {
   "cell_type": "code",
   "execution_count": 6,
   "metadata": {},
   "outputs": [
    {
     "output_type": "execute_result",
     "data": {
      "text/plain": "'diesel'"
     },
     "metadata": {},
     "execution_count": 6
    }
   ],
   "source": [
    "my_truck.fuel"
   ]
  },
  {
   "cell_type": "code",
   "execution_count": 7,
   "metadata": {},
   "outputs": [
    {
     "output_type": "execute_result",
     "data": {
      "text/plain": "6"
     },
     "metadata": {},
     "execution_count": 7
    }
   ],
   "source": [
    "my_truck.number_of_wheels"
   ]
  },
  {
   "cell_type": "code",
   "execution_count": 10,
   "metadata": {},
   "outputs": [
    {
     "output_type": "execute_result",
     "data": {
      "text/plain": "4"
     },
     "metadata": {},
     "execution_count": 10
    }
   ],
   "source": [
    "my_car.number_of_wheels"
   ]
  },
  {
   "cell_type": "markdown",
   "metadata": {},
   "source": [
    "# Multiple Inheritance\n",
    "\n",
    "Python supports _multiple inheritance_, which is commonly used for _Mixins_.\n",
    "\n",
    "## Mixins\n",
    "\n",
    "Add additional properties and methods into a class, encouraging a composable architecture.\n",
    "\n",
    "Mixins are not though to stand on their own (be instantiated), rather, a new class would inherit from the class that we want to extend, with the wanted Mixins.\n",
    "\n",
    "#### Example\n",
    "\n",
    "The follownig example is based in [this StackOverflow question](https://stackoverflow.com/questions/533631/what-is-a-mixin-and-why-are-they-useful).\n",
    "\n",
    "Suppose we want to add a lot of new functionalities to the following class:\n",
    "\n",
    "```python\n",
    "from werkzeug import BaseRequest\n",
    "\n",
    "class Request(BaseRequest):\n",
    "    pass\n",
    "```\n",
    "\n",
    "If we want to accept header support:\n",
    "```python\n",
    "from werkzeug import BaseRequest, AcceptMixin\n",
    "\n",
    "class Request(AcceptMixin, BaseRequest):\n",
    "    pass\n",
    "```\n",
    "\n",
    "If we want to add more functionalities, we could end up with something like this:\n",
    "```python\n",
    "from werkzeug import BaseRequest, AcceptMixin, ETagRequestMixin, UserAgentMixin, AuthenticationMixin\n",
    "\n",
    "class Request(AcceptMixin, ETagRequestMixin, UserAgentMixin, AuthenticationMixin, BaseRequest):\n",
    "    pass\n",
    "```"
   ]
  }
 ],
 "metadata": {
  "language_info": {
   "codemirror_mode": {
    "name": "ipython",
    "version": 3
   },
   "file_extension": ".py",
   "mimetype": "text/x-python",
   "name": "python",
   "nbconvert_exporter": "python",
   "pygments_lexer": "ipython3",
   "version": "3.8.3-final"
  },
  "orig_nbformat": 2,
  "kernelspec": {
   "name": "python38364bit1311d42443224ee797af80aa6bffc5c0",
   "display_name": "Python 3.8.3 64-bit"
  }
 },
 "nbformat": 4,
 "nbformat_minor": 2
}