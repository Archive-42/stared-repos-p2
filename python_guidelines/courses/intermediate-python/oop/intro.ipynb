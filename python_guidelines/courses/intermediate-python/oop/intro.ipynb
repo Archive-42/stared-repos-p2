{
 "cells": [
  {
   "cell_type": "markdown",
   "metadata": {},
   "source": [
    "# Object Oriented Programming\n",
    "\n",
    "OOP is a programming paradigm, in which properties or behaviors are organized into \"objects\", and provide \"methods\" for objects to communicate with one another.\n",
    "\n",
    "Everything in Python is an object: functions, variables, properties, a class...\n",
    "\n",
    "## Classes\n",
    "\n",
    "Classes defines \"types\", methods, signatures, and properties, that any of its instances (objects) will share, you can think of a way to define a \"blueprint\" or a \"template\" for objects to be instantieted with. A change in a class will reflect to every one of its instances, whether a change on a particular instance will only affect that particular instance.\n",
    "\n",
    "> In Python, classes are subclasses of the master `object` class."
   ]
  },
  {
   "cell_type": "code",
   "execution_count": 2,
   "metadata": {},
   "outputs": [],
   "source": [
    "# `self`\n",
    "\n",
    "class Car:\n",
    "    runs = True\n",
    "\n",
    "    def start(self):\n",
    "        if self.runs:\n",
    "            print(\"car is started. Vroom!\")\n",
    "        else:\n",
    "            print(\"Car is broken :(\")\n",
    "\n",
    "my_car = Car()"
   ]
  },
  {
   "cell_type": "code",
   "execution_count": 3,
   "metadata": {},
   "outputs": [
    {
     "output_type": "execute_result",
     "data": {
      "text/plain": "True"
     },
     "metadata": {},
     "execution_count": 3
    }
   ],
   "source": [
    "my_car.runs"
   ]
  },
  {
   "cell_type": "code",
   "execution_count": 4,
   "metadata": {},
   "outputs": [
    {
     "output_type": "stream",
     "name": "stdout",
     "text": "car is started. Vroom!\n"
    }
   ],
   "source": [
    "my_car.start()"
   ]
  },
  {
   "cell_type": "code",
   "execution_count": 5,
   "metadata": {},
   "outputs": [
    {
     "output_type": "stream",
     "name": "stdout",
     "text": "Car is broken :(\n"
    }
   ],
   "source": [
    "my_car.runs = False\n",
    "my_car.start()"
   ]
  },
  {
   "cell_type": "code",
   "execution_count": 6,
   "metadata": {},
   "outputs": [
    {
     "output_type": "stream",
     "name": "stdout",
     "text": "car is started. Vroom!\n"
    }
   ],
   "source": [
    "my_other_car = Car()\n",
    "my_other_car.start()"
   ]
  },
  {
   "cell_type": "code",
   "execution_count": 11,
   "metadata": {},
   "outputs": [],
   "source": [
    "# Class Methods\n",
    "class Car:\n",
    "    runs = True\n",
    "    number_of_wheels = 4\n",
    "\n",
    "    @classmethod\n",
    "    def get_number_of_wheels(cls):\n",
    "        return cls.number_of_wheels\n",
    "\n",
    "    def start(self):\n",
    "        if self.runs:\n",
    "            print(\"car is started. Vroom!\")\n",
    "        else:\n",
    "            print(\"Car is broken :(\")"
   ]
  },
  {
   "cell_type": "code",
   "execution_count": 12,
   "metadata": {},
   "outputs": [
    {
     "output_type": "execute_result",
     "data": {
      "text/plain": "4"
     },
     "metadata": {},
     "execution_count": 12
    }
   ],
   "source": [
    "Car.get_number_of_wheels()"
   ]
  },
  {
   "cell_type": "markdown",
   "metadata": {},
   "source": [
    "## `type`, `isinstance`, `issubclass`\n",
    "\n",
    "Python comes with some built-in functions for inspecting classes and types."
   ]
  },
  {
   "cell_type": "code",
   "execution_count": 13,
   "metadata": {},
   "outputs": [
    {
     "output_type": "execute_result",
     "data": {
      "text/plain": "int"
     },
     "metadata": {},
     "execution_count": 13
    }
   ],
   "source": [
    "type(42)"
   ]
  },
  {
   "cell_type": "code",
   "execution_count": 14,
   "metadata": {},
   "outputs": [
    {
     "output_type": "execute_result",
     "data": {
      "text/plain": "True"
     },
     "metadata": {},
     "execution_count": 14
    }
   ],
   "source": [
    "isinstance(42, int)"
   ]
  },
  {
   "cell_type": "code",
   "execution_count": 17,
   "metadata": {},
   "outputs": [
    {
     "output_type": "execute_result",
     "data": {
      "text/plain": "True"
     },
     "metadata": {},
     "execution_count": 17
    }
   ],
   "source": [
    "my_car = Car()\n",
    "isinstance(my_car, Car)"
   ]
  },
  {
   "cell_type": "code",
   "execution_count": 18,
   "metadata": {},
   "outputs": [
    {
     "output_type": "execute_result",
     "data": {
      "text/plain": "False"
     },
     "metadata": {},
     "execution_count": 18
    }
   ],
   "source": [
    "issubclass(int, str)"
   ]
  },
  {
   "cell_type": "code",
   "execution_count": 19,
   "metadata": {},
   "outputs": [
    {
     "output_type": "execute_result",
     "data": {
      "text/plain": "True"
     },
     "metadata": {},
     "execution_count": 19
    }
   ],
   "source": [
    "issubclass(int, object)"
   ]
  },
  {
   "cell_type": "markdown",
   "metadata": {},
   "source": [
    "# `__init__`\n",
    "\n",
    "Classes have an optional dunder method, called `__init__()` that gets run when you instantiate an instance of ac class."
   ]
  },
  {
   "cell_type": "code",
   "execution_count": 3,
   "metadata": {},
   "outputs": [
    {
     "output_type": "stream",
     "name": "stdout",
     "text": "Your Ford Thunderbird is started. Vroom vroom!\n"
    }
   ],
   "source": [
    "class Car:\n",
    "    runs = True\n",
    "\n",
    "    def __init__(self, make, model):\n",
    "        self.make = make\n",
    "        self.model = model\n",
    "\n",
    "    def start(self):\n",
    "        if self.runs:\n",
    "            print(f\"Your {self.make} {self.model} is started. Vroom vroom!\")\n",
    "        else:\n",
    "            print(f\"Your {self.make} {self.model} is broken :(\")\n",
    "\n",
    "my_ford_car = Car(\"Ford\", \"Thunderbird\")\n",
    "my_ford_car.start()"
   ]
  },
  {
   "cell_type": "markdown",
   "metadata": {},
   "source": [
    "# `__str__` and `__repr__`\n",
    "\n",
    "There are more \"dunder methods\" or \"magic methods\", but those two are very handy in common operations.\n",
    "\n",
    "* `__str__` returns a human-redeabla string.\n",
    "\n",
    "* `__repr__` returns a string that represents the Python code we would need to run to crereate this object."
   ]
  },
  {
   "cell_type": "code",
   "execution_count": 5,
   "metadata": {},
   "outputs": [
    {
     "output_type": "stream",
     "name": "stdout",
     "text": "This object is a <<Car object: Ford Thunderbird>>\nTo reproduce it, type: Car('Ford', 'Thunderbird')\n"
    }
   ],
   "source": [
    "class Car:\n",
    "    def __init__(self, make, model):\n",
    "        self.make = make\n",
    "        self.model = model\n",
    "\n",
    "    def __str__(self):\n",
    "        return f\"<<Car object: {self.make} {self.model}>>\"\n",
    "\n",
    "    def __repr__(self):\n",
    "        return f\"Car('{self.make}', '{self.model}')\"\n",
    "\n",
    "my_car = Car(\"Ford\", \"Thunderbird\")\n",
    "print(f\"This object is a {str(my_car)}\")\n",
    "print(f\"To reproduce it, type: {repr(my_car)}\")"
   ]
  },
  {
   "cell_type": "code",
   "execution_count": null,
   "metadata": {},
   "outputs": [],
   "source": []
  }
 ],
 "metadata": {
  "language_info": {
   "codemirror_mode": {
    "name": "ipython",
    "version": 3
   },
   "file_extension": ".py",
   "mimetype": "text/x-python",
   "name": "python",
   "nbconvert_exporter": "python",
   "pygments_lexer": "ipython3",
   "version": "3.8.3-final"
  },
  "orig_nbformat": 2,
  "kernelspec": {
   "name": "python38364bit1311d42443224ee797af80aa6bffc5c0",
   "display_name": "Python 3.8.3 64-bit"
  }
 },
 "nbformat": 4,
 "nbformat_minor": 2
}