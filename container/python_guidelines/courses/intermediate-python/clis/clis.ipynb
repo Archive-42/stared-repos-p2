{
 "cells": [
  {
   "cell_type": "markdown",
   "metadata": {},
   "source": [
    "# User Input"
   ]
  },
  {
   "cell_type": "markdown",
   "metadata": {},
   "source": [
    "## Command Line Arguments"
   ]
  },
  {
   "cell_type": "code",
   "execution_count": 26,
   "metadata": {},
   "outputs": [
    {
     "output_type": "stream",
     "name": "stdout",
     "text": "['C:\\\\Users\\\\ignac\\\\AppData\\\\Roaming\\\\Python\\\\Python38\\\\site-packages\\\\ipykernel_launcher.py', '-f', 'C:\\\\Users\\\\ignac\\\\AppData\\\\Roaming\\\\jupyter\\\\runtime\\\\kernel-982758c5-e679-4a1a-b73c-2e98491c2103.json']\n"
    }
   ],
   "source": [
    "import sys\n",
    "args = sys.argv\n",
    "print(args) # Try running this with python <file>.py arg1 arg2 \"hello world\""
   ]
  },
  {
   "cell_type": "code",
   "execution_count": 27,
   "metadata": {},
   "outputs": [
    {
     "output_type": "stream",
     "name": "stdout",
     "text": "['-f', 'C:\\\\Users\\\\ignac\\\\AppData\\\\Roaming\\\\jupyter\\\\runtime\\\\kernel-982758c5-e679-4a1a-b73c-2e98491c2103.json']\n"
    }
   ],
   "source": [
    "# Using the name of the file you are using is rarely useful, so its comon to ommit it:\n",
    "args = sys.argv[1:]\n",
    "print(args)"
   ]
  },
  {
   "cell_type": "markdown",
   "metadata": {},
   "source": [
    "# Using `input`"
   ]
  },
  {
   "cell_type": "code",
   "execution_count": 28,
   "metadata": {},
   "outputs": [
    {
     "output_type": "stream",
     "name": "stdout",
     "text": "Thank Nacho, your birthday is saved as 01/13/1995\n"
    }
   ],
   "source": [
    "name = input(\"Hello, what is your name? \")\n",
    "birthday_string = input(f\"Hello {name}. Please enter your birthday in MM/DD/YYYY format: \")\n",
    "print(f\"Thank {name}, your birthday is saved as {birthday_string}\")"
   ]
  },
  {
   "cell_type": "markdown",
   "metadata": {},
   "source": [
    "# Advanced Strings"
   ]
  },
  {
   "cell_type": "markdown",
   "metadata": {},
   "source": [
    "## Decimal Formatting"
   ]
  },
  {
   "cell_type": "code",
   "execution_count": 1,
   "metadata": {},
   "outputs": [
    {
     "output_type": "stream",
     "name": "stdout",
     "text": "Pi to two decimal places is 3.14\n"
    }
   ],
   "source": [
    "print(f\"Pi to two decimal places is {3.1415926:1.3}\")"
   ]
  },
  {
   "cell_type": "code",
   "execution_count": null,
   "metadata": {},
   "outputs": [],
   "source": []
  },
  {
   "cell_type": "code",
   "execution_count": 8,
   "metadata": {},
   "outputs": [
    {
     "output_type": "stream",
     "name": "stdout",
     "text": "Pi to two decimal places is       3.14\n"
    }
   ],
   "source": [
    "value = 3.1415926\n",
    "width = 10\n",
    "precision = 3\n",
    "print(f\"Pi to two decimal places is {value:{width}.{precision}}\")"
   ]
  },
  {
   "cell_type": "markdown",
   "metadata": {},
   "source": [
    "## Multiline Strings"
   ]
  },
  {
   "cell_type": "code",
   "execution_count": 11,
   "metadata": {},
   "outputs": [
    {
     "output_type": "stream",
     "name": "stdout",
     "text": "Hello, my name is Nacho. I can calulate pi to two places: 3.14. But I would rather be eating pie.\n"
    }
   ],
   "source": [
    "name = \"Nacho\"\n",
    "pi = 3.1415926\n",
    "message = (\n",
    "    f\"Hello, my name is {name}. \"\n",
    "    f\"I can calulate pi to two places: {pi:4.3}. \"\n",
    "    f\"But I would rather be eating pie.\"\n",
    ")\n",
    "print(message)"
   ]
  },
  {
   "cell_type": "markdown",
   "metadata": {},
   "source": [
    "## Trimming a String"
   ]
  },
  {
   "cell_type": "code",
   "execution_count": 14,
   "metadata": {},
   "outputs": [
    {
     "output_type": "execute_result",
     "data": {
      "text/plain": "'Hello World!'"
     },
     "metadata": {},
     "execution_count": 14
    }
   ],
   "source": [
    "my_string = \"    Hello World!    \"\n",
    "my_string.strip() # returns new"
   ]
  },
  {
   "cell_type": "code",
   "execution_count": 15,
   "metadata": {},
   "outputs": [
    {
     "output_type": "execute_result",
     "data": {
      "text/plain": "'    Hello World!'"
     },
     "metadata": {},
     "execution_count": 15
    }
   ],
   "source": [
    "my_string.rstrip() # returns new"
   ]
  },
  {
   "cell_type": "code",
   "execution_count": 16,
   "metadata": {},
   "outputs": [
    {
     "output_type": "execute_result",
     "data": {
      "text/plain": "'Hello World!    '"
     },
     "metadata": {},
     "execution_count": 16
    }
   ],
   "source": [
    "my_string.lstrip() # returns new"
   ]
  },
  {
   "cell_type": "code",
   "execution_count": 17,
   "metadata": {},
   "outputs": [
    {
     "output_type": "execute_result",
     "data": {
      "text/plain": "'Hello World!'"
     },
     "metadata": {},
     "execution_count": 17
    }
   ],
   "source": [
    "my_string = \"Hello World!,,,\"\n",
    "my_string.strip(\",\")"
   ]
  },
  {
   "cell_type": "markdown",
   "metadata": {},
   "source": [
    "## Replacing Characters"
   ]
  },
  {
   "cell_type": "code",
   "execution_count": 18,
   "metadata": {},
   "outputs": [
    {
     "output_type": "execute_result",
     "data": {
      "text/plain": "'Hello Nina!,,,'"
     },
     "metadata": {},
     "execution_count": 18
    }
   ],
   "source": [
    "my_string.replace(\"World\", \"Nina\") # returns new string"
   ]
  },
  {
   "cell_type": "code",
   "execution_count": 20,
   "metadata": {},
   "outputs": [
    {
     "output_type": "execute_result",
     "data": {
      "text/plain": "'Hello World!,,,'"
     },
     "metadata": {},
     "execution_count": 20
    }
   ],
   "source": [
    "my_string"
   ]
  },
  {
   "cell_type": "markdown",
   "metadata": {},
   "source": [
    "## `str.format()` and `%` formatting\n",
    "\n",
    "Those are two older methods of string formatting."
   ]
  },
  {
   "cell_type": "code",
   "execution_count": 21,
   "metadata": {},
   "outputs": [
    {
     "output_type": "stream",
     "name": "stdout",
     "text": "Hello, my name is Nina\n"
    }
   ],
   "source": [
    "name = \"Nina\"\n",
    "print(\"Hello, my name is {name}\".format(name=name))"
   ]
  },
  {
   "cell_type": "code",
   "execution_count": 22,
   "metadata": {},
   "outputs": [
    {
     "output_type": "stream",
     "name": "stdout",
     "text": "Hello, my name is Nina\n"
    }
   ],
   "source": [
    "print(\"Hello, my name is %s\" % name)"
   ]
  },
  {
   "cell_type": "code",
   "execution_count": null,
   "metadata": {},
   "outputs": [],
   "source": []
  }
 ],
 "metadata": {
  "language_info": {
   "codemirror_mode": {
    "name": "ipython",
    "version": 3
   },
   "file_extension": ".py",
   "mimetype": "text/x-python",
   "name": "python",
   "nbconvert_exporter": "python",
   "pygments_lexer": "ipython3",
   "version": "3.8.3-final"
  },
  "orig_nbformat": 2,
  "kernelspec": {
   "name": "python38364bit1311d42443224ee797af80aa6bffc5c0",
   "display_name": "Python 3.8.3 64-bit"
  }
 },
 "nbformat": 4,
 "nbformat_minor": 2
}