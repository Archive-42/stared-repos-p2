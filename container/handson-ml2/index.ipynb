{
 "cells": [
  {
   "cell_type": "markdown",
   "metadata": {},
   "source": [
    "# Machine Learning Notebooks\n",
    "\n",
    "*Welcome to the Machine Learning Notebooks!*\n",
    "\n",
    "[Prerequisites](#Prerequisites) (see below)\n",
    "\n",
    "<table align=\"left\">\n",
    "  <td>\n",
    "    <a href=\"https://colab.research.google.com/github/ageron/handson-ml2/blob/master/index.ipynb\" target=\"_parent\"><img src=\"https://colab.research.google.com/assets/colab-badge.svg\" alt=\"Open In Colab\"/></a>\n",
    "  </td>\n",
    "  <td>\n",
    "    <a target=\"_blank\" href=\"https://homl.info/kaggle/\"><img src=\"https://kaggle.com/static/images/open-in-kaggle.svg\" /></a>\n",
    "  </td>\n",
    "</table>"
   ]
  },
  {
   "cell_type": "markdown",
   "metadata": {},
   "source": [
    "## Notebooks\n",
    "1. [The Machine Learning landscape](01_the_machine_learning_landscape.ipynb)\n",
    "2. [End-to-end Machine Learning project](02_end_to_end_machine_learning_project.ipynb)\n",
    "3. [Classification](03_classification.ipynb)\n",
    "4. [Training Models](04_training_linear_models.ipynb)\n",
    "5. [Support Vector Machines](05_support_vector_machines.ipynb)\n",
    "6. [Decision Trees](06_decision_trees.ipynb)\n",
    "7. [Ensemble Learning and Random Forests](07_ensemble_learning_and_random_forests.ipynb)\n",
    "8. [Dimensionality Reduction](08_dimensionality_reduction.ipynb)\n",
    "9. [Unsupervised Learning Techniques](09_unsupervised_learning.ipynb)\n",
    "10. [Artificial Neural Nets with Keras](10_neural_nets_with_keras.ipynb)\n",
    "11. [Training Deep Neural Networks](11_training_deep_neural_networks.ipynb)\n",
    "12. [Custom Models and Training with TensorFlow](12_custom_models_and_training_with_tensorflow.ipynb)\n",
    "13. [Loading and Preprocessing Data](13_loading_and_preprocessing_data.ipynb)\n",
    "14. [Deep Computer Vision Using Convolutional Neural Networks](14_deep_computer_vision_with_cnns.ipynb)\n",
    "15. [Processing Sequences Using RNNs and CNNs](15_processing_sequences_using_rnns_and_cnns.ipynb)\n",
    "16. [Natural Language Processing with RNNs and Attention](16_nlp_with_rnns_and_attention.ipynb)\n",
    "17. [Representation Learning and Generative Learning Using Autencoders and GANs](17_autoencoders_and_gans.ipynb)\n",
    "18. [Reinforcement Learning](18_reinforcement_learning.ipynb)\n",
    "19. [Training and Deploying TensorFlow Models at Scale](19_training_and_deploying_at_scale.ipynb)"
   ]
  },
  {
   "cell_type": "markdown",
   "metadata": {},
   "source": [
    "## Scientific Python tutorials\n",
    "* [NumPy](tools_numpy.ipynb)\n",
    "* [Matplotlib](tools_matplotlib.ipynb)\n",
    "* [Pandas](tools_pandas.ipynb)"
   ]
  },
  {
   "cell_type": "markdown",
   "metadata": {},
   "source": [
    "## Math Tutorials\n",
    "* [Linear Algebra](math_linear_algebra.ipynb)\n",
    "* [Differential Calculus](math_differential_calculus.ipynb)"
   ]
  },
  {
   "cell_type": "markdown",
   "metadata": {},
   "source": [
    "## Extra Material\n",
    "* [Auto-differentiation](extra_autodiff.ipynb)"
   ]
  },
  {
   "cell_type": "markdown",
   "metadata": {},
   "source": [
    "## Misc.\n",
    "* [Equations](book_equations.pdf) (list of equations in the book)"
   ]
  },
  {
   "cell_type": "markdown",
   "metadata": {},
   "source": [
    "## Prerequisites"
   ]
  },
  {
   "cell_type": "markdown",
   "metadata": {},
   "source": [
    "### To understand\n",
    "* **Python** – you don't need to be an expert python programmer, but you do need to know the basics. If you don't, the official [Python tutorial](https://docs.python.org/3/tutorial/) is a good place to start.\n",
    "* **Scientific Python** – We will be using a few popular python libraries, in particular NumPy, matplotlib and pandas. If you are not familiar with these libraries, you should probably start by going through the tutorials in the Tools section (especially NumPy).\n",
    "* **Math** – We will also use some notions of Linear Algebra, Calculus, Statistics and Probability theory. You should be able to follow along if you learned these in the past as it won't be very advanced, but if you don't know about these topics or you need a refresher then go through the appropriate introduction in the Math section."
   ]
  },
  {
   "cell_type": "markdown",
   "metadata": {},
   "source": [
    "### To run the examples\n",
    "* **Jupyter** – These notebooks are based on Jupyter. You can run these notebooks in just one click using a hosted platform such as Binder, Deepnote or Colaboratory (no installation required), or you can just view them using Jupyter.org's viewer, or you can install everything on your machine, as you prefer. Check out the [home page](https://github.com/ageron/handson-ml2/) for more details."
   ]
  },
  {
   "cell_type": "code",
   "execution_count": null,
   "metadata": {},
   "outputs": [],
   "source": []
  }
 ],
 "metadata": {
  "kernelspec": {
   "display_name": "Python 3",
   "language": "python",
   "name": "python3"
  },
  "language_info": {
   "codemirror_mode": {
    "name": "ipython",
    "version": 3
   },
   "file_extension": ".py",
   "mimetype": "text/x-python",
   "name": "python",
   "nbconvert_exporter": "python",
   "pygments_lexer": "ipython3",
   "version": "3.7.10"
  },
  "nav_menu": {},
  "toc": {
   "navigate_menu": true,
   "number_sections": true,
   "sideBar": true,
   "threshold": 6,
   "toc_cell": false,
   "toc_section_display": "block",
   "toc_window_display": false
  }
 },
 "nbformat": 4,
 "nbformat_minor": 4
}
